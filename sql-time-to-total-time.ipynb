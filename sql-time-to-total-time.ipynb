{
 "cells": [
  {
   "cell_type": "code",
   "execution_count": 1,
   "id": "intermediate-buffer",
   "metadata": {},
   "outputs": [],
   "source": [
    "import pandas as pd"
   ]
  },
  {
   "cell_type": "code",
   "execution_count": 2,
   "id": "elegant-george",
   "metadata": {},
   "outputs": [],
   "source": [
    "import sqlite3\n",
    "conn = sqlite3.Connection(\"gtc-outputs/job-log.db\")\n",
    "\n",
    "sql_timeline = pd.read_sql(\"select * from sql_timeline\", conn)\n",
    "app_timeline = pd.read_sql(\"select * from app_timeline\", conn)\n",
    "job_timeline = pd.read_sql(\"select * from job_timeline\", conn)"
   ]
  },
  {
   "cell_type": "code",
   "execution_count": 3,
   "id": "muslim-direction",
   "metadata": {},
   "outputs": [],
   "source": [
    "def add_durations(df, scol=\"Start Time\", fcol=\"Finish Time\", dcol=\"duration\"):\n",
    "    df[dcol] = df[fcol] - df[scol]\n",
    "    return df"
   ]
  },
  {
   "cell_type": "code",
   "execution_count": 4,
   "id": "under-hunter",
   "metadata": {},
   "outputs": [],
   "source": [
    "add_durations(app_timeline)\n",
    "add_durations(sql_timeline)\n",
    "add_durations(job_timeline)\n",
    "\n",
    "pass"
   ]
  },
  {
   "cell_type": "code",
   "execution_count": 5,
   "id": "variable-pension",
   "metadata": {},
   "outputs": [
    {
     "data": {
      "text/plain": [
       "0    0.997987\n",
       "Name: duration, dtype: float64"
      ]
     },
     "execution_count": 5,
     "metadata": {},
     "output_type": "execute_result"
    }
   ],
   "source": [
    "sum(sql_timeline[\"duration\"]) / app_timeline[\"duration\"]"
   ]
  }
 ],
 "metadata": {
  "kernelspec": {
   "display_name": "Python 3",
   "language": "python",
   "name": "python3"
  },
  "language_info": {
   "codemirror_mode": {
    "name": "ipython",
    "version": 3
   },
   "file_extension": ".py",
   "mimetype": "text/x-python",
   "name": "python",
   "nbconvert_exporter": "python",
   "pygments_lexer": "ipython3",
   "version": "3.7.8"
  }
 },
 "nbformat": 4,
 "nbformat_minor": 5
}
